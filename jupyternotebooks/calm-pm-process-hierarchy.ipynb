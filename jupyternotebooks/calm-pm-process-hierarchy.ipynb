{
 "cells": [
  {
   "cell_type": "markdown",
   "id": "fc9a769b",
   "metadata": {},
   "source": [
    "# SAP Cloud ALM Process Hierarchy API Demo\n",
    "\n",
    "This notebook contains examples of SAP Business Hub API calls for SAP Cloud ALM for implementation. The specific APIs shown below are for Process Hierarchy.\n",
    "\n",
    "The API information and specification is available here:\n",
    "\n",
    "  - https://api.sap.com/package/SAPCloudALM/rest - SAP Cloud ALM\n",
    "  - https://api.sap.com/api/CALM_PH/overview - SAP Cloud ALM Process Hierarchy\n",
    "\n",
    "Please note the license and other terms and conditions contained in this notebook's repository: https://github.com/SAP-samples/cloud-alm-api-examples.\n",
    "\n",
    "## Python Dependencies Required\n",
    "\n",
    "In order to run the samples in this notebook, install the following dependencies:\n",
    "\n",
    "  - Jupyter integration in Visual Studio Code: https://code.visualstudio.com/docs/python/jupyter-support\n",
    "  - Python 3, a recent version, is Required. Python 3.9 was used here\n",
    "  - Requests - for handling HTTP GET/POST/PATCH/DELETE Requests - https://requests.readthedocs.io/en/latest/user/install/#install\n",
    "  - Requests-OAuthlib - for authentication with requests - https://requests-oauthlib.readthedocs.io/en/latest/index.html#installation\n",
    "  - Pandas - Python data analysis - https://pandas.pydata.org/docs/getting_started/install.html\n",
    "\n",
    "## APIs called\n",
    "\n",
    "API for Process Hierarchy: https://\\<tenanant url\\>/api/calm-processhierarchy/v1"
   ]
  },
  {
   "cell_type": "markdown",
   "id": "97c7e337",
   "metadata": {},
   "source": [
    "***\n",
    "# Authentication information\n",
    "\n",
    "You must create a python module file called apidata.py and put the information specific to your tenant there. This includes:\n",
    "\n",
    "  - OAuth2 client ID and secret\n",
    "  - Token url\n",
    "  - Base URL for API calls\n",
    "  \n",
    "Get client ID and secret variables from an external module: this information is sensitive.\n",
    "\n",
    "These items can be retrieved from the SAP Business Technology Platform (SAP BTP) Cockpit.\n",
    "\n",
    "## Format of module apidata.py for import\n",
    "\n",
    "```python\n",
    "service_instance_client_id = r'get your client ID from SAP BTP Cockpit'\n",
    "service_instance_client_secret = r'get your client secret from SAP BTP Cockpit'\n",
    "token_url = 'your token url'\n",
    "base_url = 'your base url'\n",
    "```"
   ]
  },
  {
   "cell_type": "code",
   "execution_count": null,
   "id": "88e55c2b",
   "metadata": {},
   "outputs": [],
   "source": [
    "# Import credentials from apidata.py\n",
    "import apidata as ad\n",
    "\n",
    "client_id = ad.ptm_all_client_id\n",
    "client_secret = ad.ptm_all_client_secret\n",
    "token_url = ad.token_url\n",
    "base_url = ad.base_url\n",
    "\n",
    "default_project = '11111111-1111-1111-1111-111111111111'"
   ]
  },
  {
   "cell_type": "markdown",
   "id": "2b00c028",
   "metadata": {},
   "source": [
    "* * *\n",
    "# Get token for authentication\n",
    "Call OAuth token API with credential information. Add the token to variable which is used as header in all subsequent requests.\n",
    "\n",
    "See Requests-OAuthlib documentation for Backend Application Flow:\n",
    "\n",
    "* https://requests-oauthlib.readthedocs.io/en/latest/oauth2_workflow.html#backend-application-flow"
   ]
  },
  {
   "cell_type": "code",
   "execution_count": null,
   "id": "b59d17a5",
   "metadata": {},
   "outputs": [],
   "source": [
    "import requests\n",
    "from requests_oauthlib import OAuth2Session\n",
    "from oauthlib.oauth2 import BackendApplicationClient\n",
    "import pandas as pd\n",
    "\n",
    "client = BackendApplicationClient(client_id=client_id)\n",
    "oauth = OAuth2Session(client=client)\n",
    "token = oauth.fetch_token(token_url=token_url, client_id=client_id,\n",
    "        client_secret=client_secret)\n",
    "\n",
    "# Prepare the header data for all subsequent requests\n",
    "headers = {'Authorization': 'Bearer ' + token['access_token']}\n",
    "\n",
    "# prepare the header for patch requests\n",
    "patchUpdateHeader = {\n",
    "    'Authorization': 'Bearer ' + token['access_token'],\n",
    "    'Content-Type': 'application/json'\n",
    "}"
   ]
  },
  {
   "cell_type": "markdown",
   "id": "0c7dcadd",
   "metadata": {},
   "source": [
    "* * * \n",
    "# CREATE two root hierarchy nodes\n",
    "\n",
    "Expected response: \"201 Created\""
   ]
  },
  {
   "cell_type": "code",
   "execution_count": null,
   "id": "eba60f54",
   "metadata": {},
   "outputs": [],
   "source": [
    "hierarchyNodeIds = []\n",
    "hierarchyNodeData = [\n",
    "    {\n",
    "        \"title\": \"Parent Hierarchy Node 1\",\n",
    "        \"description\": \"This is a new hierarchy node\"\n",
    "    },\n",
    "    {\n",
    "        \"title\": \"Parent Hierarchy Node 2\",\n",
    "        \"description\": \"This is another root hierarchy node\"\n",
    "    }\n",
    "]\n",
    "\n",
    "for nodeData in hierarchyNodeData:\n",
    "    response = requests.post(base_url + '/HierarchyNodes', headers=headers, json=nodeData)\n",
    "\n",
    "    if response.status_code == 201:\n",
    "        print('Hierarchy node created successfully.')\n",
    "        hierarchyNodeIds.append(response.json()['uuid'])\n",
    "        print('Hierarchy Node ID:', hierarchyNodeIds[-1])\n",
    "    else:\n",
    "        print('Failed to create hierarchy node. Response:', response.text)"
   ]
  },
  {
   "cell_type": "markdown",
   "id": "82cf5893",
   "metadata": {},
   "source": [
    "* * * \n",
    "# CREATE two child hierarchy nodes\n",
    "\n",
    "Expected response: \"201 Created\""
   ]
  },
  {
   "cell_type": "code",
   "execution_count": null,
   "id": "ebd26fd2",
   "metadata": {},
   "outputs": [],
   "source": [
    "childHierarchyNodeData = [\n",
    "    {\n",
    "        \"title\": \"Child Hierarchy Node 1\",\n",
    "        \"description\": \"This is a child hierarchy node\",\n",
    "        \"parentNodeUUID\": hierarchyNodeIds[0]\n",
    "    },\n",
    "    {\n",
    "        \"title\": \"Child Hierarchy Node 2\",\n",
    "        \"description\": \"This is another child hierarchy node\",\n",
    "        \"parentNodeUUID\": hierarchyNodeIds[0],\n",
    "        \"toExternalReferences\": [\n",
    "            {\n",
    "                \"name\": \"My Third Party System\",\n",
    "                \"externalReferenceId\": \"ec44740b-7001-4ea1-a61a-4ecae614431f\",\n",
    "                \"url\": \"https://my.thirdpartysystem/hierarchy/ec44740b-7001-4ea1-a61a-4ecae614431f\"\n",
    "            }\n",
    "        ]\n",
    "    }\n",
    "]\n",
    "\n",
    "for childNodeData in childHierarchyNodeData:\n",
    "    response = requests.post(base_url + '/HierarchyNodes', headers=headers, json=childNodeData)\n",
    "\n",
    "    if response.status_code == 201:\n",
    "        print('Child hierarchy node created successfully.')\n",
    "        hierarchyNodeIds.append(response.json()['uuid'])\n",
    "        print('Hierarchy Node ID:', hierarchyNodeIds[-1])\n",
    "    else:\n",
    "        print('Failed to create child hierarchy node. Response:', response.text)"
   ]
  },
  {
   "cell_type": "markdown",
   "id": "8a5eb811",
   "metadata": {},
   "source": [
    "* * * \n",
    "# GET count of all process hierachy nodes\n",
    "\n",
    "Expected response: \"200 OK\""
   ]
  },
  {
   "cell_type": "code",
   "execution_count": null,
   "id": "09da6925",
   "metadata": {},
   "outputs": [],
   "source": [
    "response = requests.get(base_url + '/HierarchyNodes?$count=true', headers=headers)\n",
    "\n",
    "if response.status_code == 200:\n",
    "    print(response.status_code, response.reason)\n",
    "    print('Number of hierarchy nodes: ', response.json()[\"@count\"])\n",
    "else:\n",
    "    print('Failed to fetch number of hierarchy nodes. Response:', response.text)"
   ]
  },
  {
   "cell_type": "markdown",
   "id": "f4cca8ae",
   "metadata": {},
   "source": [
    "* * * \n",
    "# GET a list of process hierarchy nodes\n",
    "\n",
    "Expected response: \"200 OK\""
   ]
  },
  {
   "cell_type": "code",
   "execution_count": null,
   "id": "95d73b5e",
   "metadata": {},
   "outputs": [],
   "source": [
    "response = requests.get(base_url + '/HierarchyNodes', headers=headers)\n",
    "\n",
    "if response.status_code == 200:\n",
    "    print(response.status_code, response.reason)\n",
    "    print('Hierarchy Nodes: ', response.json()[\"value\"])\n",
    "else:\n",
    "    print('Failed to fetch hierarchy nodes. Response:', response.text)"
   ]
  },
  {
   "cell_type": "markdown",
   "id": "63b41458",
   "metadata": {},
   "source": [
    "***\n",
    "\n",
    "# Update a hierarchy node\n",
    "\n",
    "Expected response: \"200 OK\""
   ]
  },
  {
   "cell_type": "code",
   "execution_count": null,
   "id": "e5768ef7",
   "metadata": {},
   "outputs": [],
   "source": [
    "hierachyNodeUpdateData = {\n",
    "    \"title\": \"Updated Child Hierarchy Node 2\",\n",
    "    \"toExternalReferences\": [\n",
    "        {\n",
    "            \"name\": \"My Renamed Third Party System\",\n",
    "            \"externalReferenceId\": \"ec44740b-7001-4ea1-a61a-4ecae614431f\",\n",
    "            \"url\": \"https://my.renamed.thirdpartysystem/hierarchy/ec44740b-7001-4ea1-a61a-4ecae614431f\"\n",
    "        },\n",
    "        {\n",
    "            \"name\": \"My New Third Party System\",\n",
    "            \"externalReferenceId\": \"ec44740b-7001-4ea1-a61a-4ecae614431f\",\n",
    "            \"url\": \"https://my.new.thirdpartysystem/hierarchy/ec44740b-7001-4ea1-a61a-4ecae614431f\"\n",
    "        }\n",
    "    ]\n",
    "}\n",
    "\n",
    "response = requests.patch(base_url + '/HierarchyNodes/' + hierarchyNodeIds[3], headers=patchUpdateHeader, json=hierachyNodeUpdateData)\n",
    "\n",
    "if response.status_code == 200:\n",
    "    print(response.status_code, response.reason)\n",
    "    print('Updated hierarchy node: ', response.json())\n",
    "else:\n",
    "    print('Failed to update hierarchy nodes. Response:', response.text)"
   ]
  },
  {
   "cell_type": "markdown",
   "id": "a142e986",
   "metadata": {},
   "source": [
    "***\n",
    "\n",
    "# Reach a hierarchy node by External Reference\n",
    "\n",
    "Expected response: \"200 OK\""
   ]
  },
  {
   "cell_type": "code",
   "execution_count": null,
   "id": "31263087",
   "metadata": {},
   "outputs": [],
   "source": [
    "externalReferenceId = \"ec44740b-7001-4ea1-a61a-4ecae614431f\"\n",
    "externalReferenceName = \"My Renamed Third Party System\"\n",
    "\n",
    "filterQuery = \"toExternalReferences/any(er:er/name eq '\" + externalReferenceName + \"' and er/externalReferenceId eq '\" + externalReferenceId + \"')\"\n",
    "expandQuery = \"toExternalReferences\"\n",
    "\n",
    "response = requests.get(base_url + '/HierarchyNodes?$expand=' + expandQuery + \"&$filter=\" + filterQuery, headers=headers)\n",
    "\n",
    "if response.status_code == 200:\n",
    "    print(response.status_code, response.reason)\n",
    "    print('Hierarchy node: ', response.json()[\"value\"])\n",
    "else:\n",
    "    print('Failed to reach hierarchy node. Response:', response.text)"
   ]
  },
  {
   "cell_type": "markdown",
   "id": "25d815b4",
   "metadata": {},
   "source": [
    "***\n",
    "\n",
    "# Change the sequence of a hierarchy node\n",
    "\n",
    "Expected response: \"200 OK\""
   ]
  },
  {
   "cell_type": "code",
   "execution_count": null,
   "id": "eb50a198",
   "metadata": {},
   "outputs": [],
   "source": [
    "hierachyNodeUpdateData = {\n",
    "    \"sequence\": 3\n",
    "}\n",
    "\n",
    "response = requests.patch(base_url + '/HierarchyNodes/' + hierarchyNodeIds[3], headers=patchUpdateHeader, json=hierachyNodeUpdateData)\n",
    "\n",
    "if response.status_code == 200:\n",
    "    print(response.status_code, response.reason)\n",
    "    print('Updated hierarchy node: ', response.json())\n",
    "else:\n",
    "    print('Failed to update hierarchy nodes. Response:', response.text)"
   ]
  },
  {
   "cell_type": "markdown",
   "id": "1a92869b",
   "metadata": {},
   "source": [
    "***\n",
    "\n",
    "# Move a child node to a different parent\n",
    "\n",
    "Expected response: \"200 OK\""
   ]
  },
  {
   "cell_type": "code",
   "execution_count": null,
   "id": "17cfd635",
   "metadata": {},
   "outputs": [],
   "source": [
    "hierachyNodeUpdateData = {\n",
    "    \"parentNodeUUID\": hierarchyNodeIds[1]\n",
    "}\n",
    "\n",
    "response = requests.patch(base_url + '/HierarchyNodes/' + hierarchyNodeIds[2], headers=patchUpdateHeader, json=hierachyNodeUpdateData)\n",
    "\n",
    "if response.status_code == 200:\n",
    "    print(response.status_code, response.reason)\n",
    "    print('Updated hierarchy node: ', response.json())\n",
    "else:\n",
    "    print('Failed to update hierarchy nodes. Response:', response.text)"
   ]
  },
  {
   "cell_type": "markdown",
   "id": "875f8c2b",
   "metadata": {},
   "source": [
    "***\n",
    "\n",
    "# Delete a root hierarchy node\n",
    "\n",
    "Expected response: \"204 OK\""
   ]
  },
  {
   "cell_type": "code",
   "execution_count": null,
   "id": "692e5c45",
   "metadata": {},
   "outputs": [],
   "source": [
    "response = requests.delete(base_url + '/HierarchyNodes/' + hierarchyNodeIds[1], headers=headers)\n",
    "\n",
    "\n",
    "if response.status_code == 204:\n",
    "    print(response.status_code, response.reason)\n",
    "    print('Deleted hierarchy!')\n",
    "else:\n",
    "    print('Failed to delete hierarchy node. Response:', response.text)"
   ]
  }
 ],
 "metadata": {
  "kernelspec": {
   "display_name": "Python 3",
   "language": "python",
   "name": "python3"
  },
  "language_info": {
   "codemirror_mode": {
    "name": "ipython",
    "version": 3
   },
   "file_extension": ".py",
   "mimetype": "text/x-python",
   "name": "python",
   "nbconvert_exporter": "python",
   "pygments_lexer": "ipython3",
   "version": "3.9.6"
  }
 },
 "nbformat": 4,
 "nbformat_minor": 5
}
