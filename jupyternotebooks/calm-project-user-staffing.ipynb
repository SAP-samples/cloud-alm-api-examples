{
 "cells": [
  {
   "cell_type": "markdown",
   "metadata": {},
   "source": [
    "# SAP Cloud ALM Project and Task API Test and Demo\n",
    "## Adding and Removing Users from Project Teams\n",
    "\n",
    "This notebook contains examples of SAP Business Hub API calls for SAP Cloud ALM for Implementation. The specific APIs shown below are for Projects and Tasks.\n",
    "\n",
    "The API information and specification is available here:\n",
    "\n",
    "* https://api.sap.com/package/SAPCloudALM/rest - SAP Cloud ALM\n",
    "* https://api.sap.com/api/CALM_PJM/overview - SAP Cloud ALM Projects\n",
    "* https://api.sap.com/api/CALM_TKM/overview - SAP Cloud ALM Tasks\n",
    "\n",
    "Please note the license and other terms and conditions contained in this notebook's repository: https://github.com/SAP-samples/cloud-alm-api-examples\n",
    "\n",
    "## Python Dependencies Required\n",
    "\n",
    "In order to run the samples in this notebook, install the following dependencies:\n",
    "\n",
    "* Jupyter integration in Visual Studio Code: https://code.visualstudio.com/docs/python/jupyter-support \n",
    "* Python 3, a recent version, is Required. Python 3.8 was used here\n",
    "* Requests - for handling HTTP GET/POST/PATCH/DELETE Requests - https://docs.python-requests.org/en/latest/user/install/#install\n",
    "* Requests-OAuthlib - for authentication with requests - https://requests-oauthlib.readthedocs.io/en/latest/index.html#installation\n",
    "* Pandas - Python data analysis - https://pandas.pydata.org/docs/getting_started/install.html\n",
    "\n",
    "## APIs called\n",
    "\n",
    "API to get projects: https://<tenant url\\>/api/imp-pjm-srv/v1/projects\n",
    "\n",
    "API to get tasks: https://<tenant url\\>/api/imp-tkm-srv/v1/tasks?projectId=<project ID\\>\n",
    "\n",
    "## Updates\n",
    "\n",
    "* 2025-07 Update users assigned to a project.\n",
    "* API specification: <https://api.sap.com/api/CALM_PJM/path/patch_teams__teamId__roles__roleId_>"
   ]
  },
  {
   "cell_type": "markdown",
   "metadata": {},
   "source": [
    "\n",
    "---\n",
    "\n",
    "## Authentication information\n",
    "\n",
    "You must create a python module file called `apidata.py` and put the information specific to your tenant there. This inclduds\n",
    "\n",
    "* OAuth2 client ID and secret\n",
    "* Token url\n",
    "* Base URL for API calls\n",
    "\n",
    "Get client ID and secret variables from an external module: this information is senstive.\n",
    "\n",
    "These items can be retrieved from the BTP Cockpit \n",
    "\n",
    "### Format of module apidata.py for import\n",
    "\n",
    "```python\n",
    "ptm_all_client_id = r'get your client ID from BTP Cockpit'\n",
    "ptm_all_client_secret = r'get your client secret from BTP Cockpit'\n",
    "token_url = 'your token url'\n",
    "base_url = 'your base url'\n",
    "```\n"
   ]
  },
  {
   "cell_type": "code",
   "execution_count": null,
   "metadata": {},
   "outputs": [],
   "source": [
    "import apidata as ad\n",
    "\n",
    "client_id = ad.ptm_all_client_id\n",
    "client_secret = ad.ptm_all_client_secret\n",
    "token_url = ad.token_url\n",
    "base_url = ad.base_url"
   ]
  },
  {
   "cell_type": "markdown",
   "metadata": {},
   "source": [
    "### Get token for authentication\n",
    "\n",
    "Call OAuth token API with credential information. Add the resulting header to all requests.\n",
    "\n",
    "See Requests-OAuthlib documentation for Backend Application Flow:\n",
    "\n",
    "* https://requests-oauthlib.readthedocs.io/en/latest/oauth2_workflow.html#backend-application-flow"
   ]
  },
  {
   "cell_type": "code",
   "execution_count": null,
   "metadata": {},
   "outputs": [],
   "source": [
    "import requests\n",
    "from requests_oauthlib import OAuth2Session\n",
    "from oauthlib.oauth2 import BackendApplicationClient\n",
    "\n",
    "client = BackendApplicationClient(client_id=client_id)\n",
    "oauth = OAuth2Session(client=client)\n",
    "token = oauth.fetch_token(token_url=token_url, client_id=client_id,\n",
    "        client_secret=client_secret)\n",
    "\n",
    "hed = {'Authorization': 'Bearer ' + token['access_token']}        "
   ]
  },
  {
   "cell_type": "markdown",
   "metadata": {},
   "source": [
    "\n",
    "---\n",
    "\n",
    "## Perform GET request to retrieve list of all projects\n",
    "\n",
    "Expected response: \"200 OK\""
   ]
  },
  {
   "cell_type": "code",
   "execution_count": null,
   "metadata": {},
   "outputs": [],
   "source": [
    "response = requests.get(base_url + '/api/calm-projects/v1/projects', headers=hed)\n",
    "\n",
    "print(response.status_code, response.reason)"
   ]
  },
  {
   "cell_type": "markdown",
   "metadata": {},
   "source": [
    "## Parse JSON into Pandas Dataframe\n",
    "\n",
    "This takes the data returned from the projects API, which is in JSON format, and places it into a dataframe for further processing and analysis."
   ]
  },
  {
   "cell_type": "code",
   "execution_count": null,
   "metadata": {},
   "outputs": [],
   "source": [
    "import pandas as pd\n",
    "\n",
    "df = pd.json_normalize(response.json())\n",
    "\n",
    "df"
   ]
  },
  {
   "cell_type": "markdown",
   "metadata": {},
   "source": [
    "## Get a Project Name \n",
    "\n",
    "You may wish to adjust the code below to set a project name of your choosing, for example 'My API Test Project'. In this sample, we'll just take the first project in the list.\n"
   ]
  },
  {
   "cell_type": "code",
   "execution_count": null,
   "metadata": {},
   "outputs": [],
   "source": [
    "sample_project_name = df.iloc[0]['name'] # First project in the list\n",
    "sample_project_name"
   ]
  },
  {
   "cell_type": "markdown",
   "metadata": {},
   "source": [
    "### Override Sample Project Name for Demo\n",
    "\n",
    "I'm setting my own project name here, because I have one ready for my demos. You can do the same if you don't want to use the first project."
   ]
  },
  {
   "cell_type": "code",
   "execution_count": null,
   "metadata": {},
   "outputs": [],
   "source": [
    "\n",
    "sample_project_name = 'My API Test Project'\n"
   ]
  },
  {
   "cell_type": "markdown",
   "metadata": {},
   "source": [
    "### Get ID of a Selected Project\n",
    "\n",
    "Read ID of project `sample_project_name` from dataframe"
   ]
  },
  {
   "cell_type": "code",
   "execution_count": null,
   "metadata": {},
   "outputs": [],
   "source": [
    "staffingPrjID = df.loc[df['name'] == sample_project_name]['id'].values[0]\n",
    "\n",
    "print('Project:', sample_project_name, 'ID:', staffingPrjID)"
   ]
  },
  {
   "cell_type": "markdown",
   "metadata": {},
   "source": [
    "---\n",
    "## 2025-07-09 - Update Users in a Project\n",
    "\n",
    "API path to PATCH with users:\n",
    "\n",
    "`/teams/{teamId}/roles/{roleId}`\n",
    "\n",
    "See the Open API specification for the PATCH operation: <https://api.sap.com/api/CALM_PJM/path/patch_teams__teamId__roles__roleId_>"
   ]
  },
  {
   "cell_type": "code",
   "execution_count": null,
   "metadata": {},
   "outputs": [],
   "source": [
    "# Get the teams in the project:\n",
    "\n",
    "staffingPath = f'{base_url}/api/calm-projects/v1/projects/{staffingPrjID}/teams'\n",
    "\n",
    "print(staffingPath)\n",
    "\n",
    "response = requests.get(staffingPath, headers=hed)\n",
    "\n",
    "print(response.status_code, response.reason)\n",
    "print(response.json())"
   ]
  },
  {
   "cell_type": "code",
   "execution_count": null,
   "metadata": {},
   "outputs": [],
   "source": [
    "# Get the roles in the first team:\n",
    "\n",
    "firstTeamId = response.json()[0]['id']\n",
    "\n",
    "teamRolesPath = f'{base_url}/api/calm-projects/v1/teams/{firstTeamId}/roles'\n",
    "\n",
    "print(teamRolesPath)\n",
    "\n",
    "response = requests.get(teamRolesPath, headers=hed)\n",
    "\n",
    "print(response.status_code, response.reason)"
   ]
  },
  {
   "cell_type": "code",
   "execution_count": null,
   "metadata": {},
   "outputs": [],
   "source": [
    "# Read the roles into a dataframe for easy processing:\n",
    "dfRoles = pd.json_normalize(response.json())\n",
    "\n",
    "dfRoles"
   ]
  },
  {
   "cell_type": "code",
   "execution_count": null,
   "metadata": {},
   "outputs": [],
   "source": [
    "# Get the ID of the \"Configuration Expert\" role:\n",
    "configExpertRole = dfRoles.loc[dfRoles['roleName'] == 'Configuration Expert']\n",
    "configExpertRoleID = configExpertRole['roleId'].values[0] \n",
    "configExpertRoleID"
   ]
  },
  {
   "cell_type": "code",
   "execution_count": null,
   "metadata": {},
   "outputs": [],
   "source": [
    "configExpertRole"
   ]
  },
  {
   "cell_type": "markdown",
   "metadata": {},
   "source": [
    "### Modify the role setting the \"members\" array\n",
    "\n",
    "We need the user's e-mail address. Provide this in the `members` array.\n",
    "\n",
    "The contents of the array **replaces** the existing users assigned to the role. If you are just adding a user, read the original array and append the new users to it before your send the PATCH request."
   ]
  },
  {
   "cell_type": "code",
   "execution_count": null,
   "metadata": {},
   "outputs": [],
   "source": [
    "roleToModify = {\n",
    "  \"members\": [\n",
    "    {\n",
    "      \"userEmail\": \"test@example.com\"\n",
    "    },\n",
    "    {\n",
    "      \"userEmail\": \"test.2@example.com\"\n",
    "    }\n",
    "  ]\n",
    "}\n",
    "\n",
    "roleToModify"
   ]
  },
  {
   "cell_type": "code",
   "execution_count": null,
   "metadata": {},
   "outputs": [],
   "source": [
    "# Send the PATCH request:\n",
    "\n",
    "configExpertTeamRolesPath = f'{base_url}/api/calm-projects/v1/teams/{firstTeamId}/roles/{configExpertRoleID}'\n",
    "\n",
    "print(configExpertTeamRolesPath)\n",
    "\n",
    "response = requests.patch(configExpertTeamRolesPath, headers=hed, json=roleToModify)\n",
    "\n",
    "print(response.status_code, response.reason)\n"
   ]
  },
  {
   "cell_type": "markdown",
   "metadata": {},
   "source": [
    "### Check the users returned from the request\n",
    "\n",
    "If the request returns `_FORMER_MEMBER_` instead of the user ID, this means that the user does not exist in the tenant. If the system is appropriately configured, it creates an approval request in the User Management application."
   ]
  },
  {
   "cell_type": "code",
   "execution_count": null,
   "metadata": {},
   "outputs": [],
   "source": [
    "if response.status_code == 200:\n",
    "    print(response.json()['members'])"
   ]
  }
 ],
 "metadata": {
  "kernelspec": {
   "display_name": "Python 3",
   "language": "python",
   "name": "python3"
  },
  "language_info": {
   "codemirror_mode": {
    "name": "ipython",
    "version": 3
   },
   "file_extension": ".py",
   "mimetype": "text/x-python",
   "name": "python",
   "nbconvert_exporter": "python",
   "pygments_lexer": "ipython3",
   "version": "3.9.6"
  },
  "metadata": {
   "interpreter": {
    "hash": "2db524e06e9f5f4ffedc911c917cb75e12dbc923643829bf417064a77eb14d37"
   }
  },
  "orig_nbformat": 2
 },
 "nbformat": 4,
 "nbformat_minor": 2
}
